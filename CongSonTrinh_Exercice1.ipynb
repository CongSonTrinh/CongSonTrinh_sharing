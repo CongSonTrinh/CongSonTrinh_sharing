{
 "cells": [
  {
   "cell_type": "code",
   "execution_count": 1,
   "id": "44d49b75",
   "metadata": {},
   "outputs": [
    {
     "name": "stdout",
     "output_type": "stream",
     "text": [
      "2\n",
      "8\n",
      "True\n",
      "False\n",
      "True\n"
     ]
    }
   ],
   "source": [
    "v = 12 % 5\n",
    "print(v)\n",
    "w = 2 * 3 + 2\n",
    "print(w)\n",
    "x = 'a' < 'b' \n",
    "print(x)\n",
    "y = 'a' < 'a'\n",
    "print(y)\n",
    "z = 1 == True\n",
    "print(z)"
   ]
  },
  {
   "cell_type": "code",
   "execution_count": 2,
   "id": "505213a6",
   "metadata": {},
   "outputs": [
    {
     "name": "stdout",
     "output_type": "stream",
     "text": [
      "36\n",
      "1\n",
      "2345\n",
      "36\n"
     ]
    }
   ],
   "source": [
    "a = 6 ** 2\n",
    "print(a)\n",
    "b = (5 % 2) ** 2\n",
    "print(b)\n",
    "c = str(234) + \"5\"\n",
    "print(c)\n",
    "d = a // b\n",
    "print(d)"
   ]
  },
  {
   "cell_type": "code",
   "execution_count": 3,
   "id": "e3e4ee45",
   "metadata": {},
   "outputs": [
    {
     "name": "stdout",
     "output_type": "stream",
     "text": [
      "10\n",
      "15\n",
      "5\n",
      "10\n",
      "10\n",
      "101\n"
     ]
    }
   ],
   "source": [
    "q3 = 10\n",
    "print(q3)\n",
    "q3 += 5\n",
    "print(q3)\n",
    "q3 -= 10\n",
    "print(q3)\n",
    "q3 *= 2\n",
    "print(q3)\n",
    "q3 = str(q3)\n",
    "print(q3)\n",
    "q3 += \"1\"\n",
    "print(q3)"
   ]
  },
  {
   "cell_type": "code",
   "execution_count": 4,
   "id": "0d0bf1ed",
   "metadata": {},
   "outputs": [
    {
     "name": "stdout",
     "output_type": "stream",
     "text": [
      "greater than\n"
     ]
    }
   ],
   "source": [
    "answer = 10\n",
    "if answer < 10:\n",
    "    print(\"less than\")\n",
    "elif answer > 5:\n",
    "    print(\"greater than\")\n",
    "else:\n",
    "    print(\"run\")"
   ]
  },
  {
   "cell_type": "code",
   "execution_count": 5,
   "id": "99f9ed7d",
   "metadata": {},
   "outputs": [
    {
     "name": "stdout",
     "output_type": "stream",
     "text": [
      "run\n",
      "greater than\n"
     ]
    }
   ],
   "source": [
    "answer = 10\n",
    "if answer < 10:\n",
    "    print(\"less than\")\n",
    "else:\n",
    "    print(\"run\")\n",
    "if answer > 5:\n",
    "    print(\"greater than\")\n",
    "elif answer == 10:\n",
    "    print('10')"
   ]
  },
  {
   "cell_type": "code",
   "execution_count": null,
   "id": "b984a537",
   "metadata": {},
   "outputs": [],
   "source": []
  }
 ],
 "metadata": {
  "kernelspec": {
   "display_name": "Python 3 (ipykernel)",
   "language": "python",
   "name": "python3"
  },
  "language_info": {
   "codemirror_mode": {
    "name": "ipython",
    "version": 3
   },
   "file_extension": ".py",
   "mimetype": "text/x-python",
   "name": "python",
   "nbconvert_exporter": "python",
   "pygments_lexer": "ipython3",
   "version": "3.9.7"
  }
 },
 "nbformat": 4,
 "nbformat_minor": 5
}
